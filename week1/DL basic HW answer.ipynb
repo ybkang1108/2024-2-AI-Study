{
 "cells": [
  {
   "cell_type": "markdown",
   "metadata": {},
   "source": [
    "# Deep Learning Basic 과제\n",
    "> 인공지능 스터디 첫 번째 과제에 오신 것을 환영합니다! DL basic 강의를 들으면서 배운 다양한 지식들을 실습을 통해서 활용해볼 시간을 가질 것입니다!"
   ]
  },
  {
   "cell_type": "markdown",
   "metadata": {},
   "source": [
    "## 🐙 과제를 함께할 친구 똑똑한 문어 - 딥토\n",
    "> 딥토는 이제 갓 딥러닝를 시작해서 궁금한게 매우 많고 열정이 넘쳐요!\n",
    "\n",
    "```python\n",
    "🐙\n",
    "반가워요! 딥러닝를 함께 공부하게 된 딥토라고 해요!\n",
    "딥러닝이 무엇인지 늘 궁금했었는데 이번에 공부하게 되어 너무 기뻐요!\n",
    "```\n",
    "```python\n",
    "😊\n",
    "물론이죠! 함께 열심히 공부해봐요!\n",
    "```"
   ]
  },
  {
   "cell_type": "markdown",
   "metadata": {},
   "source": [
    "\n",
    "```python\n",
    "🐙\n",
    "퀴즈를 통해서 강의에서 배웠던 내용을 같이 복습해 봐요!\n",
    "```\n"
   ]
  },
  {
   "cell_type": "markdown",
   "metadata": {},
   "source": [
    "#### ❓ <font color='red'><b>[ 퀴즈1 ]</b></font> 학습방법 (단일선택)\n",
    "``` python\n",
    "다음 중 학습방법에 대한 설명으로 가장 적절하지 않은 것은??\n",
    "\n",
    "- (1) 준지도학습은 레이블이 지정된 데이터와 지정되지 않은 데이터를 모두 활용한다.\n",
    "- (2) 준지도학습은 적은 양의 레이블된 데이터로 모델의 성능을 향상시킬 수 있다.\n",
    "- (3) 비지도학습은 외부 레이블 없이 데이터 자체에서 감독 신호를 생성한다.\n",
    "- (4) 준지도학습은 지도학습과 비지도학습의 중간 형태로 볼 수 있다.\n",
    "- (5) 지도학습(Supervised Learning)의 한계점으로 고품질의 레이블된 데이터를 대량으로 확보하기 어렵고 비용이 많이 든다는 점이 있다.\n",
    "```"
   ]
  },
  {
   "cell_type": "markdown",
   "metadata": {},
   "source": [
    "\n",
    "#### 😉 <font color='red'><b>[ 정답1 ]</b></font> \n",
    "\n",
    "```python\n",
    "(3)\n",
    "\n",
    "준지도학습이 외부 레이블 없이 데이터 자체에서 감독 신호를 생성하는 학습방법이며,\n",
    "비지도학습은 데이터의 내재된 구조를 학습하는 데 집중한다.\n",
    "```"
   ]
  },
  {
   "cell_type": "markdown",
   "metadata": {},
   "source": [
    "#### ❓ <font color='red'><b>[ 퀴즈2 ]</b></font> 퍼셉트론의 한계 (주관식)\n",
    "\n",
    "``` python\n",
    "XOR 문제를 단일 퍼셉트론으로 해결할 수 없는 이유는 무엇인가요??\n",
    "\n",
    "```"
   ]
  },
  {
   "cell_type": "markdown",
   "metadata": {},
   "source": [
    "#### 😉 <font color='red'><b>[ 정답2 ]</b></font> \n",
    "```python\n",
    "\n",
    "XOR 문제가 선형적으로 분리 불가능하기 때문에\n",
    "\n",
    "```"
   ]
  },
  {
   "cell_type": "markdown",
   "metadata": {},
   "source": [
    "#### ❓ <font color='red'><b>[ 코딩3 ]</b></font> 퍼셉트론 구현 : ans1과 ans2를 숫자로 변경하시오.\n",
    "\n",
    "```\n",
    "\n"
   ]
  },
  {
   "cell_type": "markdown",
   "metadata": {},
   "source": [
    "### numpy를 가상환경에 설치합니다"
   ]
  },
  {
   "cell_type": "code",
   "execution_count": 3,
   "metadata": {},
   "outputs": [],
   "source": [
    "!pip install numpy"
   ]
  },
  {
   "cell_type": "code",
   "execution_count": 7,
   "metadata": {},
   "outputs": [],
   "source": [
    "import numpy as np\n",
    "\n",
    "def Perceptron(x, w, b):\n",
    "    y = np.sum(w * x) + b\n",
    "    if y <= 0:\n",
    "        ans1 = \"빈칸 1\" # 숫자(int)로 변경하시오\n",
    "        return ans1\n",
    "    else:\n",
    "        ans2 = \"빈칸 2\" # 숫자(int)로 변경하시오\n",
    "        return ans2 \n",
    "\n",
    "# NAND 게이트\n",
    "def NAND(x1, x2):\n",
    "    return Perceptron(np.array([x1, x2]), np.array([-0.5, -0.5]), 0.7)\n",
    " \n",
    "# OR 게이트\n",
    "def OR(x1, x2):\n",
    "    return Perceptron(np.array([x1, x2]), np.array([0.5, 0.5]), -0.2)\n",
    " \n",
    "# AND 게이트\n",
    "def AND(x1, x2):\n",
    "    return Perceptron(np.array([x1, x2]), np.array([0.5, 0.5]), -0.7)\n",
    "\n",
    "# 테스트\n",
    "print(\"NAND 게이트:\")\n",
    "print(NAND(0, 0), NAND(0, 1), NAND(1, 0), NAND(1, 1))\n",
    "\n",
    "print(\"OR 게이트:\")\n",
    "print(OR(0, 0), OR(0, 1), OR(1, 0), OR(1, 1))\n",
    "\n",
    "print(\"AND 게이트:\")\n",
    "print(AND(0, 0), AND(0, 1), AND(1, 0), AND(1, 1))"
   ]
  },
  {
   "cell_type": "markdown",
   "metadata": {},
   "source": [
    "#### 😉 <font color='red'><b>[ 정답3 ]</b></font> \n",
    "```python\n",
    "\n",
    "ans1 = 0\n",
    "ans2 = 1\n",
    "```\n",
    "#### <font color='red'><b>[ 해설 ]</b></font> \n",
    "```\n",
    "NAND, OR, AND 게이트를 퍼셉트론으로 구현하고 있습니다. 이들 게이트는 모두 입력에 따라 0 또는 1을 출력하므로, 퍼셉트론의 출력도 0과 1이어야 합니다.\n",
    "\n",
    "OR 게이트를 예로 들어 생각해보면, \n",
    "OR 게이트의 진리표를 생각했을때\n",
    "\n",
    "x1 = 0, x2 = 0 의 경우:\n",
    "\n",
    "y = 0.5 * 0 + 0.5 * 0 - 0.2 = -0.2\n",
    "-0.2 <= 0 이므로 ans1(0)을 반환해야 합니다.\n",
    "\n",
    "\n",
    "x1 = 0, x2 = 1 의 경우:\n",
    "\n",
    "y = 0.5 * 0 + 0.5 * 1 - 0.2 = 0.3\n",
    "0.3 > 0 이므로 ans2(1)을 반환해야 합니다.\n",
    "\n",
    "\n",
    "x1 = 1, x2 = 0 의 경우:\n",
    "\n",
    "y = 0.5 * 1 + 0.5 * 0 - 0.2 = 0.3\n",
    "0.3 > 0 이므로 ans2(1)을 반환해야 합니다.\n",
    "\n",
    "\n",
    "x1 = 1, x2 = 1 의 경우:\n",
    "\n",
    "y = 0.5 * 1 + 0.5 * 1 - 0.2 = 0.8\n",
    "0.8 > 0 이므로 ans2(1)을 반환해야 합니다.\n",
    "\n",
    "따라서, y <= 0일 때 ans1 = 0을 반환하고, y > 0일 때 ans2 = 1을 반환하도록 설정하면 OR 게이트가 올바르게 동작합니다.\n",
    "\n",
    "```"
   ]
  },
  {
   "cell_type": "markdown",
   "metadata": {},
   "source": [
    "#### ❓ <font color='red'><b>[ 설문 ]</b></font> 인공지능 공부수준\n",
    "\n",
    "```python\n",
    "다음 보기 중, 본인이 설명할 줄 아는 키워드를 모두 고르시오?\n",
    "\n",
    "- (1) 검증 데이터셋과 테스트 데이터셋\n",
    "- (2) 과적합과 과소적합\n",
    "- (3) 활성화함수\n",
    "- (4) 앙상블 학습\n",
    "- (5) 오토인코더\n",
    "- (6) 전이학습\n",
    "- (7) 어텐션 메커니즘\n",
    "```\n"
   ]
  },
  {
   "cell_type": "markdown",
   "metadata": {},
   "source": [
    "#### <font color='red'><b>[ 해설 ]</b></font> \n",
    "```python\n",
    "😉\n",
    "여러분이 정답\n",
    "\n",
    "```"
   ]
  },
  {
   "cell_type": "markdown",
   "metadata": {},
   "source": [
    "## <font color='green'><b>[ 실습 ]</b></font>👨‍💻선형 분류 학습시키기"
   ]
  },
  {
   "cell_type": "markdown",
   "metadata": {},
   "source": [
    "```python\n",
    "🐙\n",
    "아래 코드를 먼저 실행 시키고 시작해요!\n",
    "\n",
    "오늘 수업에서 개와 고양이에 대한 feature를 분류했던 알고리즘을 생각하며 코드를 돌려봅시다.\n",
    "```"
   ]
  },
  {
   "cell_type": "markdown",
   "metadata": {},
   "source": [
    "#### 0. 가상환경에 matplotlib 설치"
   ]
  },
  {
   "cell_type": "code",
   "execution_count": 16,
   "metadata": {},
   "outputs": [],
   "source": [
    "!pip install matplotlib"
   ]
  },
  {
   "cell_type": "markdown",
   "metadata": {},
   "source": [
    "#### 1. 데이터 생성: 2차원 평면상에 무작위로 점들을 생성하고, 간단한 규칙(x + y > 0)을 사용해 두 클래스로 나눕니다."
   ]
  },
  {
   "cell_type": "code",
   "execution_count": 78,
   "metadata": {},
   "outputs": [],
   "source": [
    "import numpy as np\n",
    "import matplotlib.pyplot as plt\n",
    "\n",
    "# 데이터 생성\n",
    "np.random.seed(0)\n",
    "X = np.random.randn(200, 2) * 2\n",
    "y = (X[:, 0] + X[:, 1] > 0).astype(int)"
   ]
  },
  {
   "cell_type": "markdown",
   "metadata": {},
   "source": [
    "#### 2. 선형 분류기 \n",
    "##### predict 함수는 입력 데이터에 대해 wx + b > 0 인지 확인하여 클래스를 예측합니다.\n",
    "##### train 함수는 퍼셉트론 학습 규칙을 사용하여 가중치(w)와 편향(b)을 업데이트합니다."
   ]
  },
  {
   "cell_type": "code",
   "execution_count": 73,
   "metadata": {},
   "outputs": [],
   "source": [
    "# 선형 분류기 클래스\n",
    "class LinearClassifier:\n",
    "    def __init__(self):\n",
    "        self.w = np.zeros(2)\n",
    "        self.b = 0\n",
    "\n",
    "    def predict(self, X):\n",
    "        return (np.dot(X, self.w) + self.b > 0).astype(int)\n",
    "\n",
    "    def train(self, X, y, learning_rate=0.001, epochs=50):\n",
    "        accuracies = []\n",
    "        for epoch in range(epochs):\n",
    "            for i in range(len(X)):\n",
    "                y_pred = self.predict(X[i])\n",
    "                error = y[i] - y_pred\n",
    "                self.w += learning_rate * error * X[i]\n",
    "                self.b += learning_rate * error\n",
    "            \n",
    "            accuracy = np.mean(self.predict(X) == y)\n",
    "            accuracies.append(accuracy)\n",
    "        \n",
    "        return accuracies"
   ]
  },
  {
   "cell_type": "code",
   "execution_count": 74,
   "metadata": {},
   "outputs": [],
   "source": [
    "# 분류기 학습\n",
    "clf = LinearClassifier()\n",
    "clf.train(X, y)"
   ]
  },
  {
   "cell_type": "code",
   "execution_count": 67,
   "metadata": {},
   "outputs": [],
   "source": [
    "# 결정 경계 시각화 함수\n",
    "def plot_decision_boundary(clf, X, y, ax):\n",
    "    xx, yy = np.meshgrid(np.linspace(-6, 6, 100), np.linspace(-6, 6, 100))\n",
    "    Z = clf.predict(np.c_[xx.ravel(), yy.ravel()]).reshape(xx.shape)\n",
    "    \n",
    "    ax.contourf(xx, yy, Z, alpha=0.4)\n",
    "    ax.scatter(X[:, 0], X[:, 1], c=y, edgecolors='black')\n",
    "    ax.set_xlabel('Feature 1')\n",
    "    ax.set_ylabel('Feature 2')"
   ]
  },
  {
   "cell_type": "code",
   "execution_count": 75,
   "metadata": {},
   "outputs": [],
   "source": [
    "# 다양한 에폭에 대한 학습 및 시각화\n",
    "epochs_list = [1, 8, 12, 30]\n",
    "fig, axs = plt.subplots(2, 2, figsize=(10, 10))\n",
    "fig.suptitle('Linear Classification with Different Epochs', fontsize=16)\n",
    "\n",
    "for i, epochs in enumerate(epochs_list):\n",
    "    clf = LinearClassifier()\n",
    "    accuracies = clf.train(X, y, epochs=epochs)\n",
    "    \n",
    "    ax = axs[i // 2, i % 2]\n",
    "    plot_decision_boundary(clf, X, y, ax)\n",
    "    ax.set_title(f'Epochs: {epochs}, Accuracy: {accuracies[-1]:.2f}')\n",
    "\n",
    "plt.tight_layout()\n",
    "plt.show()\n"
   ]
  },
  {
   "cell_type": "code",
   "execution_count": 77,
   "metadata": {},
   "outputs": [],
   "source": [
    "# 학습 곡선 그리기\n",
    "plt.figure(figsize=(10, 6))\n",
    "for epochs in epochs_list:\n",
    "    clf = LinearClassifier()\n",
    "    accuracies = clf.train(X, y, epochs=epochs)\n",
    "    plt.plot(range(1, epochs + 1), accuracies, label=f'Epochs: {epochs}')\n",
    "\n",
    "plt.xlabel('Epochs')\n",
    "plt.ylabel('Accuracy')\n",
    "plt.title('Learning Curves for Different Epoch Settings')\n",
    "plt.grid(True)\n",
    "plt.xlim(1, max(epochs_list))\n",
    "plt.show()"
   ]
  },
  {
   "cell_type": "code",
   "execution_count": 76,
   "metadata": {},
   "outputs": [],
   "source": [
    "\n",
    "# 처음 10 에폭 동안의 학습 곡선 (상세 보기)\n",
    "plt.figure(figsize=(10, 6))\n",
    "for epochs in epochs_list:\n",
    "    clf = LinearClassifier()\n",
    "    accuracies = clf.train(X, y, epochs=max(epochs, 10))\n",
    "    plt.plot(range(1, 11), accuracies[:10], label=f'Epochs: {epochs}')\n",
    "\n",
    "plt.xlabel('Epochs')\n",
    "plt.ylabel('Accuracy')\n",
    "plt.title('Learning Curves for Different Epoch Settings (First 10 Epochs)')\n",
    "plt.grid(True)\n",
    "plt.xlim(1, 10)\n",
    "plt.show()"
   ]
  },
  {
   "cell_type": "markdown",
   "metadata": {},
   "source": [
    "``` python \n",
    "🐙\n",
    "간단한 선형 분류기를 구현해보았습니다.\n",
    "선형 분류의 핵심 아이디어는 주어진 데이터를 가장 잘 분리하는 직선을 찾는 것입니다.\n",
    "이 직선은 수학적으로 y = Wx + b 형태로 표현됩니다. 여기서 W는 가중치 벡터, b는 편향을 나타냅니다.\n",
    "\n",
    "코드는 먼저 2차원 평면상에 무작위로 데이터 포인트를 생성합니다. \n",
    "이 데이터 포인트들은 x1 + x2 > 0 조건에 따라 두 클래스로 나뉩니다. \n",
    "이는 실제 분류 문제를 시뮬레이션하는 것으로, 우리의 목표는 이 데이터를 잘 분류할 수 있는 선형 모델을 학습하는 것입니다.\n",
    "\n",
    "LinearClassifier 클래스는 이 선형 모델을 구현합니다. 초기화 시 가중치 W는 0으로, 편향 b도 0으로 설정됩니다. 이는 학습의 시작점입니다.\n",
    "랜덤으로 초기화할 수도 있지만 0으로 초기화할 수도 있습니다.\n",
    "\n",
    "predict 메서드는 주어진 입력 데이터에 대해 현재의 모델이 어떤 예측을 하는지 계산합니다. \n",
    "이는 Wx + b > 0 조건을 확인하여 1(양성 클래스) 또는 0(음성 클래스)을 반환합니다. 이 조건은 결정 경계를 형성하며, 이 경계를 기준으로 데이터가 분류됩니다.\n",
    "train 메서드는 경사 하강법을 사용하여 모델을 학습시킵니다. \n",
    "\n",
    "경사 하강법은 아직 수업에서 다루지 않았지만 손실 함수(이 경우 예측과 실제 값의 차이)를 최소화하는 방향으로 파라미터를 조금씩 업데이트하는 방법입니다. \n",
    "\n",
    "각 데이터 포인트에 대해\n",
    "1) 현재 모델로 예측을 수행합니다.\n",
    "2) 예측과 실제 값의 차이(오차)를 계산합니다.\n",
    "3) 이 오차를 바탕으로 가중치 W와 편향 b를 업데이트합니다.\n",
    "\n",
    "이 과정을 여러 번(에폭 수) 반복하면서 모델은 점진적으로 데이터를 더 잘 분류할 수 있게 됩니다. 각 에폭마다 전체 데이터셋에 대한 정확도를 계산하여 학습 진행 상황을 추적합니다.\n",
    "\n",
    "```\n"
   ]
  },
  {
   "cell_type": "markdown",
   "metadata": {},
   "source": [
    "#### ❓ <font color='red'><b>[ 설문 ]</b></font> \n",
    "#### 마지막으로 1주차 수업중 어려웠던 내용, 이해안가는 내용, 수업 피드백을 짧게 적어주시면 다음 강의때 최대한 반영하겠습니다!"
   ]
  },
  {
   "cell_type": "markdown",
   "metadata": {},
   "source": [
    "#### ❓ <font color='red'><b>[ 답변 ]</b></font> "
   ]
  },
  {
   "cell_type": "markdown",
   "metadata": {},
   "source": [
    "답변 내용"
   ]
  },
  {
   "cell_type": "markdown",
   "metadata": {},
   "source": [
    "### 🎉🎉🎉 1주차 과제 완료! 🎉🎉🎉\n",
    "```python\n",
    "🐙\n",
    "1주차 강의도 듣고 과제도 마무리하느라 수고많으셨습니다. \n",
    "다음주차에 만나요~!\n",
    "```"
   ]
  }
 ],
 "metadata": {
  "kernelspec": {
   "display_name": "base",
   "language": "python",
   "name": "python3"
  },
  "language_info": {
   "codemirror_mode": {
    "name": "ipython",
    "version": 3
   },
   "file_extension": ".py",
   "mimetype": "text/x-python",
   "name": "python",
   "nbconvert_exporter": "python",
   "pygments_lexer": "ipython3",
   "version": "3.11.7"
  },
  "orig_nbformat": 4
 },
 "nbformat": 4,
 "nbformat_minor": 2
}
